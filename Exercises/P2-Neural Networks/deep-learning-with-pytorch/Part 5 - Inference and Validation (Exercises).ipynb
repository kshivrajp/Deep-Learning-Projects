{
 "cells": [
  {
   "cell_type": "markdown",
   "metadata": {},
   "source": [
    "# Inference and Validation\n",
    "\n",
    "Now that you have a trained network, you can use it for making predictions. This is typically called **inference**, a term borrowed from statistics. However, neural networks have a tendency to perform *too well* on the training data and aren't able to generalize to data that hasn't been seen before. This is called **overfitting** and it impairs inference performance. To test for overfitting while training, we measure the performance on data not in the training set called the **validation** set. We avoid overfitting through regularization such as dropout while monitoring the validation performance during training. In this notebook, I'll show you how to do this in PyTorch. \n",
    "\n",
    "As usual, let's start by loading the dataset through torchvision. You'll learn more about torchvision and loading data in a later part. This time we'll be taking advantage of the test set which you can get by setting `train=False` here:\n",
    "\n",
    "```python\n",
    "testset = datasets.FashionMNIST('~/.pytorch/F_MNIST_data/', download=True, train=False, transform=transform)\n",
    "```\n",
    "\n",
    "The test set contains images just like the training set. Typically you'll see 10-20% of the original dataset held out for testing and validation with the rest being used for training."
   ]
  },
  {
   "cell_type": "code",
   "execution_count": 12,
   "metadata": {},
   "outputs": [],
   "source": [
    "import torch\n",
    "from torchvision import datasets, transforms\n",
    "\n",
    "# Define a transform to normalize the data\n",
    "transform = transforms.Compose([transforms.ToTensor(),\n",
    "                                transforms.Normalize((0.5, 0.5, 0.5), (0.5, 0.5, 0.5))])\n",
    "# Download and load the training data\n",
    "trainset = datasets.FashionMNIST('~/.pytorch/F_MNIST_data/', download=True, train=True, transform=transform)\n",
    "trainloader = torch.utils.data.DataLoader(trainset, batch_size=64, shuffle=True)\n",
    "\n",
    "# Download and load the test data\n",
    "testset = datasets.FashionMNIST('~/.pytorch/F_MNIST_data/', download=True, train=False, transform=transform)\n",
    "testloader = torch.utils.data.DataLoader(testset, batch_size=64, shuffle=True)"
   ]
  },
  {
   "cell_type": "markdown",
   "metadata": {},
   "source": [
    "Here I'll create a model like normal, using the same one from my solution for part 4."
   ]
  },
  {
   "cell_type": "code",
   "execution_count": 13,
   "metadata": {},
   "outputs": [],
   "source": [
    "from torch import nn, optim\n",
    "import torch.nn.functional as F\n",
    "\n",
    "class Classifier(nn.Module):\n",
    "    def __init__(self):\n",
    "        super().__init__()\n",
    "        self.fc1 = nn.Linear(784, 256)\n",
    "        self.fc2 = nn.Linear(256, 128)\n",
    "        self.fc3 = nn.Linear(128, 64)\n",
    "        self.fc4 = nn.Linear(64, 10)\n",
    "        \n",
    "    def forward(self, x):\n",
    "        # make sure input tensor is flattened\n",
    "        x = x.view(x.shape[0], -1)\n",
    "        \n",
    "        x = F.relu(self.fc1(x))\n",
    "        x = F.relu(self.fc2(x))\n",
    "        x = F.relu(self.fc3(x))\n",
    "        x = F.log_softmax(self.fc4(x), dim=1)\n",
    "        \n",
    "        return x"
   ]
  },
  {
   "cell_type": "markdown",
   "metadata": {},
   "source": [
    "The goal of validation is to measure the model's performance on data that isn't part of the training set. Performance here is up to the developer to define though. Typically this is just accuracy, the percentage of classes the network predicted correctly. Other options are [precision and recall](https://en.wikipedia.org/wiki/Precision_and_recall#Definition_(classification_context)) and top-5 error rate. We'll focus on accuracy here. First I'll do a forward pass with one batch from the test set."
   ]
  },
  {
   "cell_type": "code",
   "execution_count": 20,
   "metadata": {},
   "outputs": [
    {
     "name": "stdout",
     "output_type": "stream",
     "text": [
      "torch.Size([64, 10])\n",
      "tensor([[ 0.1024,  0.1098,  0.1090,  0.0945,  0.0998,  0.0949,  0.1065,\n",
      "          0.0911,  0.0888,  0.1033],\n",
      "        [ 0.0974,  0.1170,  0.1098,  0.0938,  0.1025,  0.0923,  0.1057,\n",
      "          0.0881,  0.0880,  0.1054],\n",
      "        [ 0.0996,  0.1118,  0.1089,  0.0943,  0.1010,  0.0937,  0.1069,\n",
      "          0.0899,  0.0898,  0.1041],\n",
      "        [ 0.0967,  0.1203,  0.1078,  0.0942,  0.1060,  0.0946,  0.1034,\n",
      "          0.0835,  0.0870,  0.1066],\n",
      "        [ 0.0999,  0.1132,  0.1099,  0.0942,  0.0995,  0.0930,  0.1056,\n",
      "          0.0901,  0.0895,  0.1050],\n",
      "        [ 0.0985,  0.1139,  0.1107,  0.0971,  0.1019,  0.0936,  0.1061,\n",
      "          0.0860,  0.0872,  0.1049],\n",
      "        [ 0.0981,  0.1139,  0.1117,  0.0987,  0.1037,  0.0933,  0.1036,\n",
      "          0.0844,  0.0871,  0.1055],\n",
      "        [ 0.1002,  0.1150,  0.1095,  0.0930,  0.1023,  0.0932,  0.1048,\n",
      "          0.0884,  0.0884,  0.1051],\n",
      "        [ 0.1012,  0.1135,  0.1094,  0.0967,  0.1008,  0.0922,  0.1061,\n",
      "          0.0881,  0.0895,  0.1025],\n",
      "        [ 0.0981,  0.1137,  0.1113,  0.0960,  0.1031,  0.0955,  0.1043,\n",
      "          0.0854,  0.0871,  0.1054],\n",
      "        [ 0.1011,  0.1125,  0.1096,  0.0926,  0.0988,  0.0926,  0.1089,\n",
      "          0.0887,  0.0910,  0.1041],\n",
      "        [ 0.1010,  0.1136,  0.1098,  0.0930,  0.1001,  0.0945,  0.1035,\n",
      "          0.0904,  0.0892,  0.1049],\n",
      "        [ 0.0971,  0.1186,  0.1115,  0.0941,  0.1032,  0.0916,  0.1076,\n",
      "          0.0840,  0.0893,  0.1031],\n",
      "        [ 0.0965,  0.1135,  0.1108,  0.0985,  0.1047,  0.0926,  0.1057,\n",
      "          0.0855,  0.0878,  0.1043],\n",
      "        [ 0.1002,  0.1128,  0.1107,  0.0937,  0.1000,  0.0931,  0.1087,\n",
      "          0.0884,  0.0899,  0.1026],\n",
      "        [ 0.1064,  0.1101,  0.1096,  0.0939,  0.0977,  0.0942,  0.1073,\n",
      "          0.0913,  0.0886,  0.1012],\n",
      "        [ 0.0994,  0.1119,  0.1093,  0.0950,  0.1006,  0.0947,  0.1066,\n",
      "          0.0897,  0.0884,  0.1046],\n",
      "        [ 0.1048,  0.1103,  0.1101,  0.0927,  0.0991,  0.0932,  0.1080,\n",
      "          0.0911,  0.0883,  0.1025],\n",
      "        [ 0.1000,  0.1113,  0.1072,  0.0929,  0.0985,  0.0967,  0.1091,\n",
      "          0.0904,  0.0898,  0.1041],\n",
      "        [ 0.1017,  0.1155,  0.1103,  0.0972,  0.1024,  0.0922,  0.1041,\n",
      "          0.0866,  0.0874,  0.1026],\n",
      "        [ 0.1002,  0.1104,  0.1065,  0.0974,  0.0995,  0.0962,  0.1034,\n",
      "          0.0924,  0.0906,  0.1034],\n",
      "        [ 0.1000,  0.1114,  0.1086,  0.0947,  0.1017,  0.0926,  0.1077,\n",
      "          0.0906,  0.0897,  0.1029],\n",
      "        [ 0.0970,  0.1169,  0.1117,  0.0932,  0.1013,  0.0938,  0.1068,\n",
      "          0.0846,  0.0878,  0.1070],\n",
      "        [ 0.1021,  0.1172,  0.1094,  0.0963,  0.1010,  0.0897,  0.1037,\n",
      "          0.0876,  0.0895,  0.1034],\n",
      "        [ 0.1030,  0.1098,  0.1092,  0.0938,  0.0978,  0.0949,  0.1068,\n",
      "          0.0900,  0.0899,  0.1047],\n",
      "        [ 0.1028,  0.1169,  0.1113,  0.0916,  0.1003,  0.0924,  0.1032,\n",
      "          0.0868,  0.0879,  0.1067],\n",
      "        [ 0.0979,  0.1176,  0.1120,  0.0922,  0.1022,  0.0938,  0.1061,\n",
      "          0.0852,  0.0869,  0.1062],\n",
      "        [ 0.0983,  0.1154,  0.1114,  0.0934,  0.1010,  0.0931,  0.1084,\n",
      "          0.0858,  0.0889,  0.1044],\n",
      "        [ 0.1026,  0.1165,  0.1099,  0.0953,  0.1021,  0.0913,  0.1016,\n",
      "          0.0865,  0.0884,  0.1059],\n",
      "        [ 0.0997,  0.1146,  0.1086,  0.0964,  0.1021,  0.0939,  0.1056,\n",
      "          0.0880,  0.0883,  0.1029],\n",
      "        [ 0.0997,  0.1153,  0.1118,  0.0961,  0.1046,  0.0940,  0.1049,\n",
      "          0.0845,  0.0861,  0.1030],\n",
      "        [ 0.0986,  0.1141,  0.1119,  0.0972,  0.1024,  0.0953,  0.1029,\n",
      "          0.0839,  0.0888,  0.1048],\n",
      "        [ 0.1022,  0.1107,  0.1075,  0.0944,  0.0997,  0.0950,  0.1058,\n",
      "          0.0907,  0.0898,  0.1043],\n",
      "        [ 0.1010,  0.1143,  0.1088,  0.0961,  0.1017,  0.0919,  0.1053,\n",
      "          0.0901,  0.0887,  0.1023],\n",
      "        [ 0.1029,  0.1137,  0.1103,  0.0940,  0.0991,  0.0922,  0.1071,\n",
      "          0.0895,  0.0884,  0.1028],\n",
      "        [ 0.0948,  0.1159,  0.1084,  0.0952,  0.1044,  0.0983,  0.1084,\n",
      "          0.0844,  0.0867,  0.1034],\n",
      "        [ 0.0993,  0.1186,  0.1111,  0.0918,  0.1005,  0.0930,  0.1059,\n",
      "          0.0867,  0.0877,  0.1053],\n",
      "        [ 0.1032,  0.1157,  0.1108,  0.0950,  0.1021,  0.0906,  0.1028,\n",
      "          0.0872,  0.0894,  0.1032],\n",
      "        [ 0.0990,  0.1115,  0.1074,  0.0953,  0.1017,  0.0955,  0.1055,\n",
      "          0.0919,  0.0882,  0.1038],\n",
      "        [ 0.0992,  0.1114,  0.1087,  0.0933,  0.1019,  0.0927,  0.1101,\n",
      "          0.0893,  0.0901,  0.1035],\n",
      "        [ 0.1018,  0.1121,  0.1077,  0.0945,  0.0996,  0.0944,  0.1055,\n",
      "          0.0888,  0.0911,  0.1044],\n",
      "        [ 0.0981,  0.1169,  0.1090,  0.0984,  0.1032,  0.0922,  0.1043,\n",
      "          0.0841,  0.0884,  0.1054],\n",
      "        [ 0.0985,  0.1151,  0.1101,  0.0934,  0.1020,  0.0944,  0.1090,\n",
      "          0.0871,  0.0879,  0.1026],\n",
      "        [ 0.1010,  0.1121,  0.1090,  0.0944,  0.1006,  0.0949,  0.1080,\n",
      "          0.0880,  0.0888,  0.1031],\n",
      "        [ 0.1014,  0.1165,  0.1107,  0.0925,  0.1025,  0.0931,  0.1045,\n",
      "          0.0878,  0.0867,  0.1043],\n",
      "        [ 0.0985,  0.1139,  0.1087,  0.0938,  0.0998,  0.0929,  0.1092,\n",
      "          0.0892,  0.0916,  0.1024],\n",
      "        [ 0.1005,  0.1127,  0.1093,  0.0915,  0.0997,  0.0948,  0.1072,\n",
      "          0.0888,  0.0902,  0.1052],\n",
      "        [ 0.0993,  0.1188,  0.1112,  0.0928,  0.1011,  0.0910,  0.1066,\n",
      "          0.0869,  0.0879,  0.1044],\n",
      "        [ 0.0994,  0.1187,  0.1088,  0.0969,  0.1021,  0.0908,  0.1060,\n",
      "          0.0857,  0.0879,  0.1037],\n",
      "        [ 0.0993,  0.1120,  0.1100,  0.0966,  0.1022,  0.0919,  0.1069,\n",
      "          0.0890,  0.0892,  0.1028],\n",
      "        [ 0.1011,  0.1126,  0.1091,  0.0957,  0.1004,  0.0924,  0.1062,\n",
      "          0.0915,  0.0887,  0.1024],\n",
      "        [ 0.0997,  0.1164,  0.1097,  0.0969,  0.1010,  0.0919,  0.1042,\n",
      "          0.0869,  0.0892,  0.1040],\n",
      "        [ 0.0969,  0.1192,  0.1121,  0.0916,  0.1019,  0.0925,  0.1069,\n",
      "          0.0845,  0.0874,  0.1070],\n",
      "        [ 0.1014,  0.1136,  0.1094,  0.0955,  0.1005,  0.0926,  0.1062,\n",
      "          0.0867,  0.0893,  0.1049],\n",
      "        [ 0.0983,  0.1141,  0.1118,  0.0949,  0.1011,  0.0934,  0.1072,\n",
      "          0.0869,  0.0870,  0.1053],\n",
      "        [ 0.0994,  0.1148,  0.1098,  0.0950,  0.0998,  0.0933,  0.1076,\n",
      "          0.0879,  0.0900,  0.1022],\n",
      "        [ 0.1006,  0.1135,  0.1098,  0.0942,  0.1000,  0.0955,  0.1078,\n",
      "          0.0867,  0.0878,  0.1040],\n",
      "        [ 0.0935,  0.1158,  0.1093,  0.0989,  0.1065,  0.0951,  0.1064,\n",
      "          0.0823,  0.0874,  0.1048],\n",
      "        [ 0.1028,  0.1112,  0.1087,  0.0936,  0.0989,  0.0945,  0.1069,\n",
      "          0.0908,  0.0903,  0.1024],\n",
      "        [ 0.1011,  0.1135,  0.1107,  0.0938,  0.0994,  0.0937,  0.1073,\n",
      "          0.0873,  0.0882,  0.1049],\n",
      "        [ 0.1027,  0.1163,  0.1092,  0.0961,  0.1007,  0.0892,  0.1023,\n",
      "          0.0892,  0.0908,  0.1035],\n",
      "        [ 0.0960,  0.1165,  0.1102,  0.0955,  0.1035,  0.0921,  0.1060,\n",
      "          0.0848,  0.0895,  0.1059],\n",
      "        [ 0.0994,  0.1165,  0.1122,  0.0922,  0.1014,  0.0927,  0.1062,\n",
      "          0.0864,  0.0872,  0.1058],\n",
      "        [ 0.0973,  0.1179,  0.1111,  0.0917,  0.1013,  0.0948,  0.1065,\n",
      "          0.0864,  0.0874,  0.1056]])\n"
     ]
    }
   ],
   "source": [
    "model = Classifier()\n",
    "\n",
    "images, labels = next(iter(testloader))\n",
    "# Get the class probabilities\n",
    "ps = torch.exp(model(images))\n",
    "# Make sure the shape is appropriate, we should get 10 class probabilities for 64 examples\n",
    "print(ps.shape)\n",
    "print(ps)"
   ]
  },
  {
   "cell_type": "markdown",
   "metadata": {},
   "source": [
    "With the probabilities, we can get the most likely class using the `ps.topk` method. This returns the $k$ highest values. Since we just want the most likely class, we can use `ps.topk(1)`. This returns a tuple of the top-$k$ values and the top-$k$ indices. If the highest value is the fifth element, we'll get back 4 as the index."
   ]
  },
  {
   "cell_type": "code",
   "execution_count": 21,
   "metadata": {},
   "outputs": [
    {
     "name": "stdout",
     "output_type": "stream",
     "text": [
      "tensor([[ 0.1098],\n",
      "        [ 0.1170],\n",
      "        [ 0.1118],\n",
      "        [ 0.1203],\n",
      "        [ 0.1132],\n",
      "        [ 0.1139],\n",
      "        [ 0.1139],\n",
      "        [ 0.1150],\n",
      "        [ 0.1135],\n",
      "        [ 0.1137]])\n",
      "tensor([[ 1],\n",
      "        [ 1],\n",
      "        [ 1],\n",
      "        [ 1],\n",
      "        [ 1],\n",
      "        [ 1],\n",
      "        [ 1],\n",
      "        [ 1],\n",
      "        [ 1],\n",
      "        [ 1]])\n"
     ]
    }
   ],
   "source": [
    "top_p, top_class = ps.topk(1, dim=1)\n",
    "# Look at the most likely classes for the first 10 examples\n",
    "print(top_p[:10,:])\n",
    "print(top_class[:10,:])"
   ]
  },
  {
   "cell_type": "markdown",
   "metadata": {},
   "source": [
    "Now we can check if the predicted classes match the labels. This is simple to do by equating `top_class` and `labels`, but we have to be careful of the shapes. Here `top_class` is a 2D tensor with shape `(64, 1)` while `labels` is 1D with shape `(64)`. To get the equality to work out the way we want, `top_class` and `labels` must have the same shape.\n",
    "\n",
    "If we do\n",
    "\n",
    "```python\n",
    "equals = top_class == labels\n",
    "```\n",
    "\n",
    "`equals` will have shape `(64, 64)`, try it yourself. What it's doing is comparing the one element in each row of `top_class` with each element in `labels` which returns 64 True/False boolean values for each row."
   ]
  },
  {
   "cell_type": "code",
   "execution_count": 17,
   "metadata": {},
   "outputs": [],
   "source": [
    "equals = top_class == labels.view(*top_class.shape)"
   ]
  },
  {
   "cell_type": "markdown",
   "metadata": {},
   "source": [
    "Now we need to calculate the percentage of correct predictions. `equals` has binary values, either 0 or 1. This means that if we just sum up all the values and divide by the number of values, we get the percentage of correct predictions. This is the same operation as taking the mean, so we can get the accuracy with a call to `torch.mean`. If only it was that simple. If you try `torch.mean(equals)`, you'll get an error\n",
    "\n",
    "```\n",
    "RuntimeError: mean is not implemented for type torch.ByteTensor\n",
    "```\n",
    "\n",
    "This happens because `equals` has type `torch.ByteTensor` but `torch.mean` isn't implemented for tensors with that type. So we'll need to convert `equals` to a float tensor. Note that when we take `torch.mean` it returns a scalar tensor, to get the actual value as a float we'll need to do `accuracy.item()`."
   ]
  },
  {
   "cell_type": "code",
   "execution_count": 18,
   "metadata": {},
   "outputs": [
    {
     "name": "stdout",
     "output_type": "stream",
     "text": [
      "Accuracy: 10.9375%\n"
     ]
    }
   ],
   "source": [
    "accuracy = torch.mean(equals.type(torch.FloatTensor))\n",
    "print(f'Accuracy: {accuracy.item()*100}%')"
   ]
  },
  {
   "cell_type": "markdown",
   "metadata": {},
   "source": [
    "The network is untrained so it's making random guesses and we should see an accuracy around 10%. Now let's train our network and include our validation pass so we can measure how well the network is performing on the test set. Since we're not updating our parameters in the validation pass, we can speed up our code by turning off gradients using `torch.no_grad()`:\n",
    "\n",
    "```python\n",
    "# turn off gradients\n",
    "with torch.no_grad():\n",
    "    # validation pass here\n",
    "    for images, labels in testloader:\n",
    "        ...\n",
    "```\n",
    "\n",
    ">**Exercise:** Implement the validation loop below and print out the total accuracy after the loop. You can largely copy and paste the code from above, but I suggest typing it in because writing it out yourself is essential for building the skill. In general you'll always learn more by typing it rather than copy-pasting. You should be able to get an accuracy above 80%."
   ]
  },
  {
   "cell_type": "code",
   "execution_count": 22,
   "metadata": {},
   "outputs": [
    {
     "name": "stdout",
     "output_type": "stream",
     "text": [
      "Epoch: 1/30..  Training Loss: 0.513..  Test Loss: 0.441..  Test Accuracy: 0.841\n",
      "Epoch: 2/30..  Training Loss: 0.390..  Test Loss: 0.408..  Test Accuracy: 0.856\n",
      "Epoch: 3/30..  Training Loss: 0.352..  Test Loss: 0.406..  Test Accuracy: 0.855\n",
      "Epoch: 4/30..  Training Loss: 0.332..  Test Loss: 0.381..  Test Accuracy: 0.866\n",
      "Epoch: 5/30..  Training Loss: 0.317..  Test Loss: 0.415..  Test Accuracy: 0.858\n",
      "Epoch: 6/30..  Training Loss: 0.301..  Test Loss: 0.379..  Test Accuracy: 0.873\n",
      "Epoch: 7/30..  Training Loss: 0.289..  Test Loss: 0.420..  Test Accuracy: 0.860\n",
      "Epoch: 8/30..  Training Loss: 0.285..  Test Loss: 0.379..  Test Accuracy: 0.870\n",
      "Epoch: 9/30..  Training Loss: 0.273..  Test Loss: 0.370..  Test Accuracy: 0.876\n",
      "Epoch: 10/30..  Training Loss: 0.271..  Test Loss: 0.342..  Test Accuracy: 0.877\n",
      "Epoch: 11/30..  Training Loss: 0.259..  Test Loss: 0.368..  Test Accuracy: 0.878\n",
      "Epoch: 12/30..  Training Loss: 0.253..  Test Loss: 0.364..  Test Accuracy: 0.881\n",
      "Epoch: 13/30..  Training Loss: 0.247..  Test Loss: 0.373..  Test Accuracy: 0.876\n",
      "Epoch: 14/30..  Training Loss: 0.243..  Test Loss: 0.411..  Test Accuracy: 0.866\n",
      "Epoch: 15/30..  Training Loss: 0.234..  Test Loss: 0.381..  Test Accuracy: 0.876\n",
      "Epoch: 16/30..  Training Loss: 0.231..  Test Loss: 0.393..  Test Accuracy: 0.876\n",
      "Epoch: 17/30..  Training Loss: 0.226..  Test Loss: 0.369..  Test Accuracy: 0.878\n",
      "Epoch: 18/30..  Training Loss: 0.223..  Test Loss: 0.373..  Test Accuracy: 0.879\n",
      "Epoch: 19/30..  Training Loss: 0.222..  Test Loss: 0.388..  Test Accuracy: 0.868\n",
      "Epoch: 20/30..  Training Loss: 0.218..  Test Loss: 0.390..  Test Accuracy: 0.878\n",
      "Epoch: 21/30..  Training Loss: 0.213..  Test Loss: 0.388..  Test Accuracy: 0.880\n",
      "Epoch: 22/30..  Training Loss: 0.206..  Test Loss: 0.406..  Test Accuracy: 0.879\n",
      "Epoch: 23/30..  Training Loss: 0.208..  Test Loss: 0.396..  Test Accuracy: 0.880\n",
      "Epoch: 24/30..  Training Loss: 0.198..  Test Loss: 0.405..  Test Accuracy: 0.879\n",
      "Epoch: 25/30..  Training Loss: 0.200..  Test Loss: 0.430..  Test Accuracy: 0.873\n",
      "Epoch: 26/30..  Training Loss: 0.197..  Test Loss: 0.408..  Test Accuracy: 0.883\n",
      "Epoch: 27/30..  Training Loss: 0.198..  Test Loss: 0.408..  Test Accuracy: 0.871\n",
      "Epoch: 28/30..  Training Loss: 0.191..  Test Loss: 0.401..  Test Accuracy: 0.883\n",
      "Epoch: 29/30..  Training Loss: 0.187..  Test Loss: 0.387..  Test Accuracy: 0.883\n",
      "Epoch: 30/30..  Training Loss: 0.180..  Test Loss: 0.432..  Test Accuracy: 0.886\n"
     ]
    }
   ],
   "source": [
    "model = Classifier()\n",
    "criterion = nn.NLLLoss()\n",
    "optimizer = optim.Adam(model.parameters(), lr=0.003)\n",
    "\n",
    "epochs = 30\n",
    "steps = 0\n",
    "\n",
    "train_losses, test_losses = [], []\n",
    "for e in range(epochs):\n",
    "    running_loss = 0\n",
    "    for images, labels in trainloader:\n",
    "        \n",
    "        optimizer.zero_grad()\n",
    "        \n",
    "        log_ps = model(images)\n",
    "        loss = criterion(log_ps, labels)\n",
    "        loss.backward()\n",
    "        optimizer.step()\n",
    "        \n",
    "        running_loss += loss.item()\n",
    "        \n",
    "    else:\n",
    "        ## TODO: Implement the validation pass and print out the validation accuracy\n",
    "        test_loss = 0\n",
    "        accuracy = 0\n",
    "        with torch.no_grad():\n",
    "            for images, labels in testloader:\n",
    "                log_ps = model(images)\n",
    "                test_loss += criterion(log_ps, labels)\n",
    "\n",
    "                ps = torch.exp(log_ps)\n",
    "                top_p, top_class = ps.topk(1, dim=1)\n",
    "                equals = top_class == labels.view(*top_class.shape)\n",
    "                accuracy += torch.mean(equals.type(torch.FloatTensor))\n",
    "        \n",
    "        train_losses.append(running_loss/len(trainloader))\n",
    "        test_losses.append(test_loss/len(testloader))\n",
    "        \n",
    "        print(\"Epoch: {}/{}.. \".format(e+1, epochs),\n",
    "              \"Training Loss: {:.3f}.. \".format(running_loss/len(trainloader)),\n",
    "              \"Test Loss: {:.3f}.. \".format(test_loss/len(testloader)),\n",
    "              \"Test Accuracy: {:.3f}\".format(accuracy/len(testloader)))"
   ]
  },
  {
   "cell_type": "code",
   "execution_count": 23,
   "metadata": {},
   "outputs": [
    {
     "data": {
      "text/plain": [
       "<matplotlib.legend.Legend at 0x7f542d93b7b8>"
      ]
     },
     "execution_count": 23,
     "metadata": {},
     "output_type": "execute_result"
    },
    {
     "data": {
      "image/png": "[encoded data removed]",
      "text/plain": [
       "<matplotlib.figure.Figure at 0x7f542dd08c88>"
      ]
     },
     "metadata": {
      "image/png": {
       "height": 250,
       "width": 380
      },
      "needs_background": "light"
     },
     "output_type": "display_data"
    }
   ],
   "source": [
    "%matplotlib inline\n",
    "%config InlineBackend.figure_format = 'retina'\n",
    "\n",
    "import matplotlib.pyplot as plt\n",
    "\n",
    "plt.plot(train_losses, label='Training loss')\n",
    "plt.plot(test_losses, label='Validation loss')\n",
    "plt.legend(frameon=False)"
   ]
  },
  {
   "cell_type": "markdown",
   "metadata": {},
   "source": [
    "## Overfitting\n",
    "\n",
    "If we look at the training and validation losses as we train the network, we can see a phenomenon known as overfitting.\n",
    "\n",
    "<img src='assets/overfitting.png' width=450px>\n",
    "\n",
    "The network learns the training set better and better, resulting in lower training losses. However, it starts having problems generalizing to data outside the training set leading to the validation loss increasing. The ultimate goal of any deep learning model is to make predictions on new data, so we should strive to get the lowest validation loss possible. One option is to use the version of the model with the lowest validation loss, here the one around 8-10 training epochs. This strategy is called *early-stopping*. In practice, you'd save the model frequently as you're training then later choose the model with the lowest validation loss.\n",
    "\n",
    "The most common method to reduce overfitting (outside of early-stopping) is *dropout*, where we randomly drop input units. This forces the network to share information between weights, increasing it's ability to generalize to new data. Adding dropout in PyTorch is straightforward using the [`nn.Dropout`](https://pytorch.org/docs/stable/nn.html#torch.nn.Dropout) module.\n",
    "\n",
    "```python\n",
    "class Classifier(nn.Module):\n",
    "    def __init__(self):\n",
    "        super().__init__()\n",
    "        self.fc1 = nn.Linear(784, 256)\n",
    "        self.fc2 = nn.Linear(256, 128)\n",
    "        self.fc3 = nn.Linear(128, 64)\n",
    "        self.fc4 = nn.Linear(64, 10)\n",
    "        \n",
    "        # Dropout module with 0.2 drop probability\n",
    "        self.dropout = nn.Dropout(p=0.2)\n",
    "        \n",
    "    def forward(self, x):\n",
    "        # make sure input tensor is flattened\n",
    "        x = x.view(x.shape[0], -1)\n",
    "        \n",
    "        # Now with dropout\n",
    "        x = self.dropout(F.relu(self.fc1(x)))\n",
    "        x = self.dropout(F.relu(self.fc2(x)))\n",
    "        x = self.dropout(F.relu(self.fc3(x)))\n",
    "        \n",
    "        # output so no dropout here\n",
    "        x = F.log_softmax(self.fc4(x), dim=1)\n",
    "        \n",
    "        return x\n",
    "```\n",
    "\n",
    "During training we want to use dropout to prevent overfitting, but during inference we want to use the entire network. So, we need to turn off dropout during validation, testing, and whenever we're using the network to make predictions. To do this, you use `model.eval()`. This sets the model to evaluation mode where the dropout probability is 0. You can turn dropout back on by setting the model to train mode with `model.train()`. In general, the pattern for the validation loop will look like this, where you turn off gradients, set the model to evaluation mode, calculate the validation loss and metric, then set the model back to train mode.\n",
    "\n",
    "```python\n",
    "# turn off gradients\n",
    "with torch.no_grad():\n",
    "    \n",
    "    # set model to evaluation mode\n",
    "    model.eval()\n",
    "    \n",
    "    # validation pass here\n",
    "    for images, labels in testloader:\n",
    "        ...\n",
    "\n",
    "# set model back to train mode\n",
    "model.train()\n",
    "```"
   ]
  },
  {
   "cell_type": "markdown",
   "metadata": {},
   "source": [
    "> **Exercise:** Add dropout to your model and train it on Fashion-MNIST again. See if you can get a lower validation loss or higher accuracy."
   ]
  },
  {
   "cell_type": "code",
   "execution_count": 24,
   "metadata": {},
   "outputs": [],
   "source": [
    "## TODO: Define your model with dropout added\n",
    "class Classifier(nn.Module):\n",
    "    def __init__(self):\n",
    "        super().__init__()\n",
    "        self.fc1 = nn.Linear(784, 256)\n",
    "        self.fc2 = nn.Linear(256, 128)\n",
    "        self.fc3 = nn.Linear(128, 64)\n",
    "        self.fc4 = nn.Linear(64, 10)\n",
    "\n",
    "        # Dropout module with 0.2 drop probability\n",
    "        self.dropout = nn.Dropout(p=0.2)\n",
    "\n",
    "    def forward(self, x):\n",
    "        # make sure input tensor is flattened\n",
    "        x = x.view(x.shape[0], -1)\n",
    "\n",
    "        # Now with dropout\n",
    "        x = self.dropout(F.relu(self.fc1(x)))\n",
    "        x = self.dropout(F.relu(self.fc2(x)))\n",
    "        x = self.dropout(F.relu(self.fc3(x)))\n",
    "\n",
    "        # output so no dropout here\n",
    "        x = F.log_softmax(self.fc4(x), dim=1)\n",
    "\n",
    "        return x"
   ]
  },
  {
   "cell_type": "code",
   "execution_count": null,
   "metadata": {},
   "outputs": [
    {
     "name": "stdout",
     "output_type": "stream",
     "text": [
      "Epoch: 1/30..  Training Loss: 0.607..  Test Loss: 0.464..  Test Accuracy: 0.832\n",
      "Epoch: 2/30..  Training Loss: 0.482..  Test Loss: 0.442..  Test Accuracy: 0.840\n",
      "Epoch: 3/30..  Training Loss: 0.449..  Test Loss: 0.421..  Test Accuracy: 0.847\n",
      "Epoch: 4/30..  Training Loss: 0.426..  Test Loss: 0.423..  Test Accuracy: 0.845\n",
      "Epoch: 5/30..  Training Loss: 0.421..  Test Loss: 0.410..  Test Accuracy: 0.857\n",
      "Epoch: 6/30..  Training Loss: 0.412..  Test Loss: 0.394..  Test Accuracy: 0.862\n",
      "Epoch: 7/30..  Training Loss: 0.402..  Test Loss: 0.389..  Test Accuracy: 0.866\n",
      "Epoch: 8/30..  Training Loss: 0.399..  Test Loss: 0.389..  Test Accuracy: 0.861\n",
      "Epoch: 9/30..  Training Loss: 0.397..  Test Loss: 0.380..  Test Accuracy: 0.862\n",
      "Epoch: 10/30..  Training Loss: 0.388..  Test Loss: 0.409..  Test Accuracy: 0.849\n",
      "Epoch: 11/30..  Training Loss: 0.386..  Test Loss: 0.388..  Test Accuracy: 0.863\n",
      "Epoch: 12/30..  Training Loss: 0.391..  Test Loss: 0.376..  Test Accuracy: 0.865\n",
      "Epoch: 13/30..  Training Loss: 0.380..  Test Loss: 0.421..  Test Accuracy: 0.857\n",
      "Epoch: 14/30..  Training Loss: 0.373..  Test Loss: 0.381..  Test Accuracy: 0.868\n",
      "Epoch: 15/30..  Training Loss: 0.375..  Test Loss: 0.374..  Test Accuracy: 0.871\n",
      "Epoch: 16/30..  Training Loss: 0.372..  Test Loss: 0.384..  Test Accuracy: 0.870\n",
      "Epoch: 17/30..  Training Loss: 0.367..  Test Loss: 0.378..  Test Accuracy: 0.866\n",
      "Epoch: 18/30..  Training Loss: 0.368..  Test Loss: 0.373..  Test Accuracy: 0.870\n",
      "Epoch: 19/30..  Training Loss: 0.367..  Test Loss: 0.374..  Test Accuracy: 0.868\n",
      "Epoch: 20/30..  Training Loss: 0.365..  Test Loss: 0.385..  Test Accuracy: 0.870\n",
      "Epoch: 21/30..  Training Loss: 0.357..  Test Loss: 0.389..  Test Accuracy: 0.869\n",
      "Epoch: 22/30..  Training Loss: 0.359..  Test Loss: 0.406..  Test Accuracy: 0.864\n",
      "Epoch: 23/30..  Training Loss: 0.362..  Test Loss: 0.383..  Test Accuracy: 0.868\n",
      "Epoch: 24/30..  Training Loss: 0.344..  Test Loss: 0.363..  Test Accuracy: 0.876\n",
      "Epoch: 25/30..  Training Loss: 0.351..  Test Loss: 0.371..  Test Accuracy: 0.872\n",
      "Epoch: 26/30..  Training Loss: 0.356..  Test Loss: 0.368..  Test Accuracy: 0.873\n",
      "Epoch: 27/30..  Training Loss: 0.349..  Test Loss: 0.377..  Test Accuracy: 0.874\n",
      "Epoch: 28/30..  Training Loss: 0.356..  Test Loss: 0.384..  Test Accuracy: 0.868\n",
      "Epoch: 29/30..  Training Loss: 0.350..  Test Loss: 0.377..  Test Accuracy: 0.874\n",
      "Epoch: 30/30..  Training Loss: 0.344..  Test Loss: 0.363..  Test Accuracy: 0.877\n"
     ]
    }
   ],
   "source": [
    "## TODO: Train your model with dropout, and monitor the training progress with the validation loss and accuracy\n",
    "model = Classifier()\n",
    "criterion = nn.NLLLoss()\n",
    "optimizer = optim.Adam(model.parameters(), lr=0.003)\n",
    "\n",
    "epochs = 30\n",
    "steps = 0\n",
    "\n",
    "train_losses, test_losses = [], []\n",
    "for e in range(epochs):\n",
    "    running_loss = 0\n",
    "    for images, labels in trainloader:\n",
    "        \n",
    "        optimizer.zero_grad()\n",
    "        \n",
    "        log_ps = model(images)\n",
    "        loss = criterion(log_ps, labels)\n",
    "        loss.backward()\n",
    "        optimizer.step()\n",
    "        \n",
    "        running_loss += loss.item()\n",
    "        \n",
    "    else:\n",
    "        test_loss = 0\n",
    "        accuracy = 0\n",
    "        \n",
    "        # Turn off gradients for validation, saves memory and computations\n",
    "        with torch.no_grad():\n",
    "            model.eval()\n",
    "            for images, labels in testloader:\n",
    "                log_ps = model(images)\n",
    "                test_loss += criterion(log_ps, labels)\n",
    "                \n",
    "                ps = torch.exp(log_ps)\n",
    "                top_p, top_class = ps.topk(1, dim=1)\n",
    "                equals = top_class == labels.view(*top_class.shape)\n",
    "                accuracy += torch.mean(equals.type(torch.FloatTensor))\n",
    "        \n",
    "        model.train()\n",
    "        \n",
    "        train_losses.append(running_loss/len(trainloader))\n",
    "        test_losses.append(test_loss/len(testloader))\n",
    "\n",
    "        print(\"Epoch: {}/{}.. \".format(e+1, epochs),\n",
    "              \"Training Loss: {:.3f}.. \".format(running_loss/len(trainloader)),\n",
    "              \"Test Loss: {:.3f}.. \".format(test_loss/len(testloader)),\n",
    "              \"Test Accuracy: {:.3f}\".format(accuracy/len(testloader)))"
   ]
  },
  {
   "cell_type": "code",
   "execution_count": null,
   "metadata": {},
   "outputs": [],
   "source": [
    "%matplotlib inline\n",
    "%config InlineBackend.figure_format = 'retina'\n",
    "\n",
    "import matplotlib.pyplot as plt\n",
    "\n",
    "plt.plot(train_losses, label='Training loss')\n",
    "plt.plot(test_losses, label='Validation loss')\n",
    "plt.legend(frameon=False)"
   ]
  },
  {
   "cell_type": "markdown",
   "metadata": {},
   "source": [
    "## Inference\n",
    "\n",
    "Now that the model is trained, we can use it for inference. We've done this before, but now we need to remember to set the model in inference mode with `model.eval()`. You'll also want to turn off autograd with the `torch.no_grad()` context."
   ]
  },
  {
   "cell_type": "code",
   "execution_count": 29,
   "metadata": {},
   "outputs": [
    {
     "data": {
      "image/png": "[encoded data removed]",
      "text/plain": [
       "<Figure size 432x648 with 2 Axes>"
      ]
     },
     "metadata": {
      "image/png": {
       "height": 206,
       "width": 423
      },
      "needs_background": "light"
     },
     "output_type": "display_data"
    }
   ],
   "source": [
    "# Import helper module (should be in the repo)\n",
    "import helper\n",
    "\n",
    "# Test out your network!\n",
    "\n",
    "model.eval()\n",
    "\n",
    "dataiter = iter(testloader)\n",
    "images, labels = dataiter.next()\n",
    "img = images[0]\n",
    "# Convert 2D image to 1D vector\n",
    "img = img.view(1, 784)\n",
    "\n",
    "# Calculate the class probabilities (softmax) for img\n",
    "with torch.no_grad():\n",
    "    output = model.forward(img)\n",
    "\n",
    "ps = torch.exp(output)\n",
    "\n",
    "# Plot the image and probabilities\n",
    "helper.view_classify(img.view(1, 28, 28), ps, version='Fashion')"
   ]
  },
  {
   "cell_type": "markdown",
   "metadata": {},
   "source": [
    "## Next Up!\n",
    "\n",
    "In the next part, I'll show you how to save your trained models. In general, you won't want to train a model everytime you need it. Instead, you'll train once, save it, then load the model when you want to train more or use if for inference."
   ]
  }
 ],
 "metadata": {
  "kernelspec": {
   "display_name": "Python 3",
   "language": "python",
   "name": "python3"
  },
  "language_info": {
   "codemirror_mode": {
    "name": "ipython",
    "version": 3
   },
   "file_extension": ".py",
   "mimetype": "text/x-python",
   "name": "python",
   "nbconvert_exporter": "python",
   "pygments_lexer": "ipython3",
   "version": "3.6.3"
  }
 },
 "nbformat": 4,
 "nbformat_minor": 2
}
